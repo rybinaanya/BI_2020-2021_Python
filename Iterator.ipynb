{
 "cells": [
  {
   "cell_type": "code",
   "execution_count": 1,
   "metadata": {},
   "outputs": [],
   "source": [
    "from itertools import product\n",
    "from Bio import SeqIO"
   ]
  },
  {
   "cell_type": "code",
   "execution_count": 2,
   "metadata": {},
   "outputs": [
    {
     "name": "stdout",
     "output_type": "stream",
     "text": [
      "['A', 'T', 'G', 'C', 'AA', 'AT', 'AG', 'AC', 'TA', 'TT', 'TG', 'TC', 'GA', 'GT', 'GG', 'GC', 'CA', 'CT', 'CG', 'CC']\n"
     ]
    }
   ],
   "source": [
    "# TASK 1\n",
    "\n",
    "def generate(n):\n",
    "    for k in range(1, n + 1):\n",
    "        for comb in product('ATGC', repeat = k):\n",
    "            yield ''.join(comb)\n",
    "            \n",
    "            \n",
    "print(list(generate(2)))"
   ]
  },
  {
   "cell_type": "code",
   "execution_count": 4,
   "metadata": {},
   "outputs": [
    {
     "name": "stdout",
     "output_type": "stream",
     "text": [
      "Please, enter the path to your fasta file: ./example.fasta\n",
      "*GRSLQSKINTRM*YSQYQW*\n",
      "LSRGGCAIAHRKVKKPNIGF\n",
      "FENITAQKIDVTLSLLSAALAIL*\n"
     ]
    }
   ],
   "source": [
    "# TASK 2\n",
    "\n",
    "\n",
    "def translate_seq(path_to_fasta, my_codon_table=\"Standard\"):\n",
    "    for record in SeqIO.parse(path_to_fasta, 'fasta'):\n",
    "        yield record.seq.translate(table=my_codon_table)\n",
    "\n",
    "\n",
    "path_to_fasta = input('Please, enter the path to your fasta file: ')\n",
    "translate_seq_generator = translate_seq('./example.fasta')\n",
    "print(next(translate_seq_generator))\n",
    "print(next(translate_seq_generator))\n",
    "print(next(translate_seq_generator))"
   ]
  },
  {
   "cell_type": "code",
   "execution_count": null,
   "metadata": {},
   "outputs": [],
   "source": []
  }
 ],
 "metadata": {
  "kernelspec": {
   "display_name": "Python 3",
   "language": "python",
   "name": "python3"
  },
  "language_info": {
   "codemirror_mode": {
    "name": "ipython",
    "version": 3
   },
   "file_extension": ".py",
   "mimetype": "text/x-python",
   "name": "python",
   "nbconvert_exporter": "python",
   "pygments_lexer": "ipython3",
   "version": "3.8.8"
  }
 },
 "nbformat": 4,
 "nbformat_minor": 4
}
